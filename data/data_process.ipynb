{
 "cells": [
  {
   "cell_type": "code",
   "execution_count": 62,
   "metadata": {},
   "outputs": [],
   "source": [
    "from pyspark.sql import SparkSession"
   ]
  },
  {
   "cell_type": "code",
   "execution_count": 63,
   "metadata": {},
   "outputs": [],
   "source": [
    "spark = SparkSession.builder.appName('data_process').getOrCreate()"
   ]
  },
  {
   "cell_type": "code",
   "execution_count": 64,
   "metadata": {},
   "outputs": [],
   "source": [
    "df_camera = spark.read.csv(\"deployment_metadata_20201014181326.csv\", header=True)\n",
    "df_image = spark.read.csv(\"sianctapi-selected-observations-5f87781821a06.csv\", header=True)"
   ]
  },
  {
   "cell_type": "code",
   "execution_count": 65,
   "metadata": {},
   "outputs": [],
   "source": [
    "df_camera_data = df_camera[[\"deployment_id\", \"actual_lat\", \"actual_long\"]]\n",
    "df_image_data = df_image[[\"Deployment ID\", \"Sequence ID\", \"End Time\", \"Species Name\", \"Common Name\", \"Age\", \"Sex\"]]"
   ]
  },
  {
   "cell_type": "code",
   "execution_count": 66,
   "metadata": {},
   "outputs": [],
   "source": [
    "del_species_names = [\n",
    "    \"Camera Trapper\" , \"No Animal\", \"Other Bird species\", \"Unkown Animal\",\n",
    "    \"Unknown Cervid\", \"Vehicle\", \"Homo sapiens\", \"Unkown Canid\",\n",
    "    \"Unkown Bear\", \"Unknown Small Rodent\", \"Unknown Rabbit_Hare\",\n",
    "    \"Unknown Samll Weasel\"\n",
    "]"
   ]
  },
  {
   "cell_type": "code",
   "execution_count": 67,
   "metadata": {},
   "outputs": [],
   "source": [
    "df_useful_images = df_image_data.filter(~df_image_data[\"Species Name\"].isin(del_species_names))\n",
    "camera_id = list(df_useful_images[[\"Deployment ID\"]].distinct().toPandas()[\"Deployment ID\"])\n",
    "df_useful_cameras = df_camera_data.filter(df_camera_data[\"deployment_id\"].isin(camera_id))"
   ]
  },
  {
   "cell_type": "code",
   "execution_count": 68,
   "metadata": {},
   "outputs": [],
   "source": [
    "df_combined_data = df_useful_images.join(df_useful_cameras,\n",
    "                                         df_useful_images[\"Deployment ID\"]\\\n",
    "                                             ==df_useful_cameras[\"deployment_id\"],\n",
    "                                         how = \"left\")"
   ]
  },
  {
   "cell_type": "code",
   "execution_count": 69,
   "metadata": {},
   "outputs": [
    {
     "name": "stdout",
     "output_type": "stream",
     "text": [
      "+-------------+-----------+-------------------+--------------------+-----------------+-------+-------+-------------+----------+-----------+\n",
      "|Deployment ID|Sequence ID|           End Time|        Species Name|      Common Name|    Age|    Sex|deployment_id|actual_lat|actual_long|\n",
      "+-------------+-----------+-------------------+--------------------+-----------------+-------+-------+-------------+----------+-----------+\n",
      "|       d46071|  d46071s10|2018-06-19T19:03:30|      Cervus elaphus| Elk aka Red Deer|  Adult| Female|       d46071|  47.04886| -113.23121|\n",
      "|       d46071| d46071s100|2018-07-13T05:19:57|      Cervus elaphus| Elk aka Red Deer|Unknown|Unknown|       d46071|  47.04886| -113.23121|\n",
      "|       d46071| d46071s107|2018-07-25T11:25:28|Odocoileus virgin...|White-tailed Deer|  Adult|   Male|       d46071|  47.04886| -113.23121|\n",
      "|       d46071| d46071s108|2018-07-25T13:49:59|Odocoileus virgin...|White-tailed Deer|  Adult|   Male|       d46071|  47.04886| -113.23121|\n",
      "|       d46071| d46071s109|2018-07-25T16:32:18|      Cervus elaphus| Elk aka Red Deer|  Adult| Female|       d46071|  47.04886| -113.23121|\n",
      "+-------------+-----------+-------------------+--------------------+-----------------+-------+-------+-------------+----------+-----------+\n",
      "only showing top 5 rows\n",
      "\n"
     ]
    }
   ],
   "source": [
    "df_combined_data.show(5)"
   ]
  },
  {
   "cell_type": "code",
   "execution_count": 47,
   "metadata": {},
   "outputs": [],
   "source": [
    "import requests\n",
    "import json"
   ]
  },
  {
   "cell_type": "code",
   "execution_count": 48,
   "metadata": {},
   "outputs": [],
   "source": [
    "url = \"https://dsci551-project.firebaseio.com/project.json\""
   ]
  },
  {
   "cell_type": "code",
   "execution_count": 49,
   "metadata": {},
   "outputs": [],
   "source": [
    "image_dict = {}\n",
    "for row in df_combined_data.rdd.collect():\n",
    "    idx_dict = {}\n",
    "    idx_dict[\"ID\"] = row[\"Sequence ID\"]\n",
    "    idx_dict[\"time\"] = row[\"End Time\"]\n",
    "    idx_dict[\"formal name\"] = row[\"Species Name\"]\n",
    "    idx_dict[\"common name\"] = row[\"Common Name\"]\n",
    "    idx_dict[\"age\"] = row[\"Age\"]\n",
    "    idx_dict[\"sex\"] = row[\"Sex\"]\n",
    "    camera = {}\n",
    "    camera[\"ID\"] = row[\"Deployment ID\"]\n",
    "    camera[\"lat\"] = row[\"actual_lat\"]\n",
    "    camera[\"long\"] = row[\"actual_long\"]\n",
    "    idx_dict[\"camera_info\"] = camera\n",
    "    image_dict[row[\"Sequence ID\"]] = idx_dict"
   ]
  },
  {
   "cell_type": "code",
   "execution_count": 25,
   "metadata": {},
   "outputs": [],
   "source": [
    "response = requests.put(url, json.dumps(image_dict))"
   ]
  },
  {
   "cell_type": "code",
   "execution_count": 24,
   "metadata": {},
   "outputs": [],
   "source": [
    "file_path = \"project_data.json\"\n",
    "with open(file_path, \"w\") as f:\n",
    "    json.dump(image_dict, f)"
   ]
  },
  {
   "cell_type": "code",
   "execution_count": 57,
   "metadata": {},
   "outputs": [],
   "source": [
    "spark.stop()"
   ]
  },
  {
   "cell_type": "markdown",
   "metadata": {},
   "source": [
    "### Save all species names (both formal and common) in a txt file"
   ]
  },
  {
   "cell_type": "code",
   "execution_count": 58,
   "metadata": {},
   "outputs": [],
   "source": [
    "age = []\n",
    "for i in image_dict.items():\n",
    "    a = i[1][\"age\"]\n",
    "    if a not in age:\n",
    "        age.append(a)"
   ]
  },
  {
   "cell_type": "code",
   "execution_count": 59,
   "metadata": {},
   "outputs": [
    {
     "data": {
      "text/plain": [
       "['Adult', 'Unknown', 'Juvenile']"
      ]
     },
     "execution_count": 59,
     "metadata": {},
     "output_type": "execute_result"
    }
   ],
   "source": [
    "age"
   ]
  },
  {
   "cell_type": "code",
   "execution_count": 70,
   "metadata": {
    "scrolled": true
   },
   "outputs": [
    {
     "name": "stdout",
     "output_type": "stream",
     "text": [
      "+-------------+----------+-----------+\n",
      "|deployment_id|actual_lat|actual_long|\n",
      "+-------------+----------+-----------+\n",
      "|       d46071|  47.04886| -113.23121|\n",
      "|       d46072|  47.06821| -113.26897|\n",
      "|       d47100|  47.09457| -113.23200|\n",
      "|       d46069|  47.07061| -113.24006|\n",
      "|       d66450|  47.09565| -113.20647|\n",
      "|       d46074|  47.06059| -113.26067|\n",
      "|       d44312|  47.06399| -113.25818|\n",
      "|       d66455|  47.09335| -113.23933|\n",
      "|       d66441|  47.10624| -113.19959|\n",
      "|       d33769|  47.06470| -113.24599|\n",
      "|       d33761|  47.10530| -113.23927|\n",
      "|       d33751|  47.07180| -113.23661|\n",
      "|       d33758|  47.10150| -113.22168|\n",
      "|       d33760|  47.09970| -113.23070|\n",
      "|       d33759|  47.09350| -113.23580|\n",
      "|       d33770|  47.07660| -113.26166|\n",
      "|       d33762|  47.09540| -113.22334|\n",
      "|       d33752|  47.06780| -113.22416|\n",
      "|       d33753|  47.06610| -113.23476|\n",
      "|       d33749|  47.07590| -113.25140|\n",
      "+-------------+----------+-----------+\n",
      "only showing top 20 rows\n",
      "\n"
     ]
    }
   ],
   "source": [
    "df_useful_cameras.show()"
   ]
  },
  {
   "cell_type": "code",
   "execution_count": 54,
   "metadata": {},
   "outputs": [],
   "source": [
    "species_list = []\n",
    "for i in image_dict.items():\n",
    "    formal_name = i[1][\"formal name\"]\n",
    "    common_name = i[1][\"common name\"]\n",
    "    \n",
    "    if formal_name not in species_list:\n",
    "        species_list.append(formal_name)\n",
    "        \n",
    "    if common_name not in species_list:\n",
    "        species_list.append(common_name)"
   ]
  },
  {
   "cell_type": "code",
   "execution_count": 56,
   "metadata": {},
   "outputs": [],
   "source": [
    "with open('species_name.txt', 'w') as filehandle:\n",
    "    for listitem in species_list:\n",
    "        filehandle.write('%s\\n' % listitem)"
   ]
  }
 ],
 "metadata": {
  "kernelspec": {
   "display_name": "Python 3",
   "language": "python",
   "name": "python3"
  },
  "language_info": {
   "codemirror_mode": {
    "name": "ipython",
    "version": 3
   },
   "file_extension": ".py",
   "mimetype": "text/x-python",
   "name": "python",
   "nbconvert_exporter": "python",
   "pygments_lexer": "ipython3",
   "version": "3.7.4"
  }
 },
 "nbformat": 4,
 "nbformat_minor": 2
}
