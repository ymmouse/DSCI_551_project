{
 "cells": [
  {
   "cell_type": "code",
   "execution_count": 22,
   "metadata": {},
   "outputs": [],
   "source": [
    "import pandas as pd\n",
    "import numpy as np\n",
    "from ipyleaflet import *"
   ]
  },
  {
   "cell_type": "code",
   "execution_count": 23,
   "metadata": {},
   "outputs": [],
   "source": [
    "df = pd.read_csv('pos.csv')"
   ]
  },
  {
   "cell_type": "code",
   "execution_count": 24,
   "metadata": {},
   "outputs": [
    {
     "data": {
      "text/plain": [
       "98"
      ]
     },
     "execution_count": 24,
     "metadata": {},
     "output_type": "execute_result"
    }
   ],
   "source": [
    "len(df)"
   ]
  },
  {
   "cell_type": "code",
   "execution_count": 38,
   "metadata": {
    "scrolled": false
   },
   "outputs": [],
   "source": [
    "m = Map(\n",
    "    basemap=basemap_to_tiles(basemaps.Esri.WorldImagery, \"2017-04-08\"),\n",
    "    center=(47.07988, -113.24133),\n",
    "    zoom=12,\n",
    "    height=500\n",
    ")\n",
    "\n",
    "for i in range(len(df)):\n",
    "    m.add_layer(Marker(location=(df[\"actual_lat\"][i], df[\"actual_long\"][i])))\n"
   ]
  },
  {
   "cell_type": "code",
   "execution_count": 40,
   "metadata": {},
   "outputs": [],
   "source": [
    "m.save('map/my_map.html', title=\"my map\")"
   ]
  },
  {
   "cell_type": "code",
   "execution_count": 10,
   "metadata": {},
   "outputs": [],
   "source": [
    "import json"
   ]
  },
  {
   "cell_type": "code",
   "execution_count": 14,
   "metadata": {},
   "outputs": [],
   "source": [
    "with open('project_data.json') as f:\n",
    "    data = json.load(f)"
   ]
  },
  {
   "cell_type": "code",
   "execution_count": 18,
   "metadata": {},
   "outputs": [],
   "source": [
    "c_list = []\n",
    "for val in data.values():\n",
    "    if val[\"common name\"] not in c_list:\n",
    "        c_list.append(val[\"common name\"])"
   ]
  },
  {
   "cell_type": "code",
   "execution_count": 33,
   "metadata": {},
   "outputs": [],
   "source": [
    "common_list = {}\n",
    "for c in c_list:\n",
    "    curr = {}\n",
    "    for k, val in data.items():\n",
    "        if val[\"common name\"] == c:\n",
    "            camera = val[\"camera_info\"]\n",
    "            c_id = camera[\"ID\"]\n",
    "            if c_id in curr.keys():\n",
    "                curr[c_id] += 1\n",
    "            else:\n",
    "                curr[c_id] = 1\n",
    "        common_list[c] = curr"
   ]
  },
  {
   "cell_type": "code",
   "execution_count": 42,
   "metadata": {},
   "outputs": [],
   "source": [
    "c = c_list[0]\n",
    "camera_list = common_list[c]"
   ]
  },
  {
   "cell_type": "code",
   "execution_count": 110,
   "metadata": {},
   "outputs": [
    {
     "name": "stdout",
     "output_type": "stream",
     "text": [
      "Elk aka Red Deer\n"
     ]
    },
    {
     "data": {
      "application/vnd.jupyter.widget-view+json": {
       "model_id": "f80d97d37e3e493598c645137681de0d",
       "version_major": 2,
       "version_minor": 0
      },
      "text/plain": [
       "Map(center=[47.07988, -113.24133], controls=(ZoomControl(options=['position', 'zoom_in_text', 'zoom_in_title',…"
      ]
     },
     "metadata": {},
     "output_type": "display_data"
    }
   ],
   "source": [
    "m = Map(\n",
    "    basemap=basemap_to_tiles(basemaps.Esri.WorldImagery, \"2017-04-08\"),\n",
    "    center=(47.07988, -113.24133),\n",
    "    zoom=12,\n",
    "    height=500\n",
    ")\n",
    "\n",
    "# I tried from 0 to 30 and take screenshot for each m\n",
    "c = c_list[0]\n",
    "camera_list = common_list[c]\n",
    "print(c)\n",
    "for key, val in camera_list.items():\n",
    "    curr_info = df[df.deployment_id == key]\n",
    "    curr_lat = float(curr_info[\"actual_lat\"])\n",
    "    curr_long = float(curr_info[\"actual_long\"])\n",
    "    circle_marker = CircleMarker()\n",
    "    circle_marker.location = (curr_lat, curr_long)\n",
    "    circle_marker.radius = val\n",
    "    circle_marker.color = \"red\"\n",
    "    circle_marker.fill_color = \"red\"\n",
    "    circle_marker.opacity = 0.5\n",
    "    circle_marker.weight = 3\n",
    "    \n",
    "    m.add_layer(circle_marker)\n",
    "\n",
    "    #m.add_layer(Marker(location=(curr_lat, curr_long)))\n",
    "    #m.add_layer(Marker(location=(df[\"actual_lat\"][i], df[\"actual_long\"][i])))\n",
    "\n",
    "m"
   ]
  }
 ],
 "metadata": {
  "kernelspec": {
   "display_name": "Python 3",
   "language": "python",
   "name": "python3"
  },
  "language_info": {
   "codemirror_mode": {
    "name": "ipython",
    "version": 3
   },
   "file_extension": ".py",
   "mimetype": "text/x-python",
   "name": "python",
   "nbconvert_exporter": "python",
   "pygments_lexer": "ipython3",
   "version": "3.7.4"
  }
 },
 "nbformat": 4,
 "nbformat_minor": 2
}
